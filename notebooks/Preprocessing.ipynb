{
 "cells": [
  {
   "cell_type": "code",
   "execution_count": 1,
   "id": "8a7c9715-834d-41bb-bf1e-ca12e3871d19",
   "metadata": {},
   "outputs": [],
   "source": [
    "# Imports\n",
    "import os\n",
    "import shutil\n",
    "import cv2\n",
    "import numpy as np\n",
    "from tqdm import tqdm\n",
    "# import tensorflow as tf\n",
    "# from tensorflow import keras\n",
    "from tensorflow.keras.models import Sequential\n",
    "from tensorflow.keras.layers import Conv2D, MaxPooling2D, Flatten, Dense, Dropout\n",
    "from tensorflow.keras.optimizers import Adam\n",
    "from tensorflow.keras.callbacks import ModelCheckpoint"
   ]
  },
  {
   "cell_type": "markdown",
   "id": "b4792e63-de05-415e-bf7d-4b7011eea8c0",
   "metadata": {},
   "source": [
    "### Segregate Data into Train, validation and test Sets"
   ]
  },
  {
   "cell_type": "code",
   "execution_count": 26,
   "id": "3fbe699c-1dbe-424d-a715-99506f7d4a4a",
   "metadata": {},
   "outputs": [],
   "source": [
    "# def get_train_val_test_data(arr):\n",
    "#         g_files = [x for x in arr if '-G-' in x]\n",
    "#         f_files = [x for x in arr if '-F-' in x]\n",
    "        \n",
    "#         g_train_num = int(len(g_files)*0.7)\n",
    "\n",
    "#         g_train = g_files[:g_train_num]\n",
    "#         g_temp = g_files[g_train_num:]\n",
    "\n",
    "#         g_val_nums = len(g_temp) // 2\n",
    "#         g_val = g_temp[:g_val_nums]\n",
    "#         g_test = g_temp[g_val_nums:]\n",
    "\n",
    "#         f_train_num = int(len(f_files)*0.7)\n",
    "\n",
    "#         f_train = f_files[:f_train_num]\n",
    "#         f_temp = f_files[f_train_num:]\n",
    "\n",
    "#         f_val_nums = len(f_temp) // 2\n",
    "#         f_val = f_temp[:f_val_nums]\n",
    "#         f_test = f_temp[f_val_nums:]\n",
    "\n",
    "#         return g_train, g_val, g_test, f_train, f_val, f_test"
   ]
  },
  {
   "cell_type": "code",
   "execution_count": 38,
   "id": "e3d846a3-025f-4ee4-bfc9-920f5f0494a4",
   "metadata": {},
   "outputs": [],
   "source": [
    "# data_dir = '..\\\\data'\n",
    "# train_dir = \"train_data\"\n",
    "# val_dir = \"val_data\"\n",
    "# test_dir = \"test_data\"\n",
    "# count = 0\n",
    "# for language in os.listdir(data_dir):\n",
    "#     language_dir = os.path.join(data_dir, language)\n",
    "#     # print(language_dir)\n",
    "#     if os.path.isdir(language_dir):\n",
    "#         for user in os.listdir(language_dir):\n",
    "#             user_dir = os.path.join(language_dir, user)\n",
    "#             # print(user_dir)\n",
    "#             files = list(os.listdir(user_dir))\n",
    "#             # print(files)\n",
    "#             g_train, g_val, g_test, f_train, f_val, f_test = get_train_val_test_data(files)\n",
    "            \n",
    "#             for data_type in [g_train, g_val, g_test, f_train, f_val, f_test]:\n",
    "#                 src_folder = user_dir\n",
    "#                 if data_type in [g_train, f_train]:\n",
    "#                     os.makedirs(os.path.join(data_dir, train_dir), exist_ok=True)\n",
    "#                     tmp_folder = os.path.join(data_dir, train_dir)\n",
    "#                     if data_type == g_train:\n",
    "#                         os.makedirs(os.path.join(tmp_folder, 'genuine'), exist_ok=True)\n",
    "#                         dest_folder = os.path.join(tmp_folder, 'genuine')\n",
    "#                     else:\n",
    "#                         os.makedirs(os.path.join(tmp_folder, 'forge'), exist_ok=True)\n",
    "#                         dest_folder = os.path.join(tmp_folder, 'forge')\n",
    "                        \n",
    "#                 elif data_type in [g_val, f_val]:\n",
    "#                     os.makedirs(os.path.join(data_dir, val_dir), exist_ok=True)\n",
    "#                     tmp_folder = os.path.join(data_dir, val_dir)\n",
    "#                     if data_type == g_val:\n",
    "#                         os.makedirs(os.path.join(tmp_folder, 'genuine'), exist_ok=True)\n",
    "#                         dest_folder = os.path.join(tmp_folder, 'genuine')\n",
    "#                     else:\n",
    "#                         os.makedirs(os.path.join(tmp_folder, 'forge'), exist_ok=True)\n",
    "#                         dest_folder = os.path.join(tmp_folder, 'forge')\n",
    "\n",
    "#                 elif data_type in [g_test, f_test]:\n",
    "#                     os.makedirs(os.path.join(data_dir, test_dir), exist_ok=True)\n",
    "#                     tmp_folder = os.path.join(data_dir, test_dir)\n",
    "#                     if data_type == g_test:\n",
    "#                         os.makedirs(os.path.join(tmp_folder, 'genuine'), exist_ok=True)\n",
    "#                         dest_folder = os.path.join(tmp_folder, 'genuine')\n",
    "#                     else:\n",
    "#                         os.makedirs(os.path.join(tmp_folder, 'forge'), exist_ok=True)\n",
    "#                         dest_folder = os.path.join(tmp_folder, 'forge')\n",
    "            \n",
    "            \n",
    "#                 # Copy each file in the list to the destination folder\n",
    "\n",
    "#                 for file in data_type:\n",
    "#                     src_string = os.path.join(src_folder, file)\n",
    "#                     # if string == dest_folder:\n",
    "#                     # print(string, dest_folder)\n",
    "#                     shutil.copy(src_string, dest_folder)\n",
    "#                     count += 1"
   ]
  },
  {
   "cell_type": "markdown",
   "id": "beff2393-fc80-4eab-8e84-651d1f0486b1",
   "metadata": {},
   "source": [
    "### Preprocessing"
   ]
  },
  {
   "cell_type": "code",
   "execution_count": 2,
   "id": "45b527b1-a02d-44c0-a882-d65c0244364f",
   "metadata": {},
   "outputs": [],
   "source": [
    "filepath = '..//data//train_data//genuine//B-S-1-G-01.tif'"
   ]
  },
  {
   "cell_type": "code",
   "execution_count": 3,
   "id": "067e0a63-cb62-40ec-920c-f00d403d5edc",
   "metadata": {},
   "outputs": [
    {
     "name": "stdout",
     "output_type": "stream",
     "text": [
      "[[255 255 255 ... 255 255 255]\n",
      " [255 255 255 ... 255 255 255]\n",
      " [255 255 255 ... 255 255 255]\n",
      " ...\n",
      " [255 255 255 ... 255 255 255]\n",
      " [255 255 255 ... 255 255 255]\n",
      " [255 255 255 ... 255 255 255]]\n",
      "\n",
      "[[255 255 255 ... 255 255 255]\n",
      " [255 255 255 ... 255 255 255]\n",
      " [255 255 255 ... 255 255 255]\n",
      " ...\n",
      " [255 255 255 ... 255 255 255]\n",
      " [255 255 255 ... 255 255 255]\n",
      " [255 255 255 ... 255 255 255]]\n",
      "\n",
      "[array([[255, 255, 255, ..., 255, 255, 255],\n",
      "       [255, 255, 255, ..., 255, 255, 255],\n",
      "       [255, 255, 255, ..., 255, 255, 255],\n",
      "       ...,\n",
      "       [255, 255, 255, ..., 255, 255, 255],\n",
      "       [255, 255, 255, ..., 255, 255, 255],\n",
      "       [255, 255, 255, ..., 255, 255, 255]], dtype=uint8)]\n"
     ]
    }
   ],
   "source": [
    "img = cv2.imread(filepath, cv2.IMREAD_GRAYSCALE)\n",
    "img = cv2.resize(img, (150, 150))\n",
    "# img = img / 255.0  # Normalize pixel values\n",
    "print(img)\n",
    "img = np.asarray(img)\n",
    "print()\n",
    "print(img)\n",
    "print()\n",
    "X = [img]\n",
    "print(X)\n",
    "# y = [1]\n",
    "# X, y = np.array(X), np.array(y)\n",
    "# cv2.imshow(\"Image\", img)\n",
    "# # Wait for the user to press a key\n",
    "# cv2.waitKey(0)\n",
    " \n",
    "# # Close all windows\n",
    "# cv2.destroyAllWindows()"
   ]
  },
  {
   "cell_type": "code",
   "execution_count": 4,
   "id": "44f2b831-163e-4d3d-bc0c-b79e28db7346",
   "metadata": {},
   "outputs": [
    {
     "name": "stdout",
     "output_type": "stream",
     "text": [
      "dtype: uint8, shape: (150, 150), min: 0, max: 255\n"
     ]
    }
   ],
   "source": [
    "print(f'dtype: {img.dtype}, shape: {img.shape}, min: {np.min(img)}, max: {np.max(img)}')"
   ]
  },
  {
   "cell_type": "code",
   "execution_count": 5,
   "id": "ed77e437-6638-433b-97fb-61d4641c60ee",
   "metadata": {},
   "outputs": [],
   "source": [
    "# Function to load and preprocess images\n",
    "# Change to Grayscale\n",
    "# Resize\n",
    "# Normalize\n",
    "def preprocess_images(directory, label, img_size=(150, 150)):\n",
    "    X = []\n",
    "    y = []\n",
    "    for filename in os.listdir(directory):\n",
    "        if filename.endswith(\".tif\"):\n",
    "            img = cv2.imread(os.path.join(directory, filename), cv2.IMREAD_GRAYSCALE)\n",
    "            img = cv2.resize(img, img_size)\n",
    "            # print(img)\n",
    "            img = img / 255.0  # Normalize pixel values\n",
    "            # print(img)\n",
    "            img = np.asarray(img)\n",
    "            # print(img)\n",
    "            X.append(img)\n",
    "            y.append(label)\n",
    "    return np.array(X), np.array(y)"
   ]
  },
  {
   "cell_type": "code",
   "execution_count": 6,
   "id": "b968f6bd-c90a-4145-8adf-0485e9205dec",
   "metadata": {},
   "outputs": [],
   "source": [
    "# Load and preprocess data\n",
    "\n",
    "def get_preprocessed_data(directory):\n",
    "    X = []\n",
    "    y = []\n",
    "    for i, data_type in tqdm(enumerate(os.listdir(data_dir)), total=len(os.listdir(data_dir)), desc='Progress...'):\n",
    "        type_dir = os.path.join(data_dir, data_type)\n",
    "        if os.path.isdir(type_dir):\n",
    "            # print(type_dir)\n",
    "            # Load genuine signatures\n",
    "            if 'genuine' in type_dir:\n",
    "                genuine_X, genuine_y = preprocess_images(type_dir, label=1)\n",
    "                # print(genuine_X)\n",
    "                # return\n",
    "                X.extend(genuine_X)\n",
    "                y.extend(genuine_y)\n",
    "                \n",
    "            else:\n",
    "                forged_X, forged_y = preprocess_images(type_dir, label=0)\n",
    "                X.extend(forged_X)\n",
    "                y.extend(forged_y)\n",
    "        \n",
    "    X = np.array(X)\n",
    "    y = np.array(y)\n",
    "    shuffled_indices = np.random.permutation(X.shape[0])\n",
    "\n",
    "    # Shuffle arrays using shuffled indices\n",
    "    X_shuffled = X[shuffled_indices]\n",
    "    y_shuffled = y[shuffled_indices]\n",
    "\n",
    "    return X_shuffled, y_shuffled"
   ]
  },
  {
   "cell_type": "markdown",
   "id": "cd50d384-94cd-4beb-b839-55f48971c41b",
   "metadata": {},
   "source": [
    "#### Training and Validation Sets"
   ]
  },
  {
   "cell_type": "code",
   "execution_count": 7,
   "id": "a669675f-3651-455b-94b3-9731da0ff863",
   "metadata": {},
   "outputs": [
    {
     "name": "stderr",
     "output_type": "stream",
     "text": [
      "Progress...: 100%|████████████████████████████████████████████████████████████████████████████████████████████████████████████████████████| 2/2 [01:53<00:00, 56.81s/it]\n"
     ]
    }
   ],
   "source": [
    "data_dir = \"..\\\\data\\\\train_data\"\n",
    "X_train, y_train = get_preprocessed_data(directory=data_dir)"
   ]
  },
  {
   "cell_type": "code",
   "execution_count": 8,
   "id": "ccd85739-602c-4430-8778-4835a4c4515c",
   "metadata": {},
   "outputs": [
    {
     "name": "stderr",
     "output_type": "stream",
     "text": [
      "Progress...: 100%|████████████████████████████████████████████████████████████████████████████████████████████████████████████████████████| 2/2 [00:23<00:00, 11.58s/it]\n"
     ]
    }
   ],
   "source": [
    "data_dir = \"..\\\\data\\\\val_data\"\n",
    "X_val, y_val = get_preprocessed_data(directory=data_dir)"
   ]
  },
  {
   "cell_type": "markdown",
   "id": "e2a45019-6439-4f08-a2dc-bfd25ed9866b",
   "metadata": {},
   "source": [
    "### Model Architecture"
   ]
  },
  {
   "cell_type": "markdown",
   "id": "56fef95e-7a93-4b4f-8125-f81870887ffd",
   "metadata": {},
   "source": [
    "#### Model 1\n",
    "\n",
    "__Handwritten Signature Forgery Detection using CNN - _Jerome Gideon S, Anurag, Kandulna, Aron Abhishek Kajur, Diana A, Kumudha Raimond___ (https://www.sciencedirect.com/science/article/pii/S1877050918320301)"
   ]
  },
  {
   "cell_type": "code",
   "execution_count": 14,
   "id": "aaa6842c-615f-477a-b013-45ef955e6dbd",
   "metadata": {},
   "outputs": [],
   "source": [
    "# Model architecture\n",
    "model = Sequential([\n",
    "    Conv2D(32, (3, 3), activation='relu', input_shape=(150, 150, 1)),\n",
    "    MaxPooling2D((2, 2)),\n",
    "    Conv2D(64, (3, 3), activation='relu'),\n",
    "    MaxPooling2D((2, 2)),\n",
    "    Conv2D(128, (3, 3), activation='relu'),\n",
    "    MaxPooling2D((2, 2)),\n",
    "    Flatten(),\n",
    "    Dense(128, activation='relu'),\n",
    "    Dropout(0.5), \n",
    "    Dense(1, activation='sigmoid')\n",
    "])"
   ]
  },
  {
   "cell_type": "code",
   "execution_count": 15,
   "id": "0a7aac49-6c4f-4427-9d7e-49cdd5e2e7f9",
   "metadata": {},
   "outputs": [],
   "source": [
    "# Compile the model\n",
    "model.compile(optimizer='adam',\n",
    "              loss='binary_crossentropy',\n",
    "              metrics=['accuracy'])"
   ]
  },
  {
   "cell_type": "code",
   "execution_count": 16,
   "id": "8373d7df-0c4e-411c-a6ff-6752d0a7df2d",
   "metadata": {},
   "outputs": [
    {
     "name": "stdout",
     "output_type": "stream",
     "text": [
      "Model: \"sequential_1\"\n",
      "_________________________________________________________________\n",
      " Layer (type)                Output Shape              Param #   \n",
      "=================================================================\n",
      " conv2d_3 (Conv2D)           (None, 148, 148, 32)      320       \n",
      "                                                                 \n",
      " max_pooling2d_3 (MaxPooling  (None, 74, 74, 32)       0         \n",
      " 2D)                                                             \n",
      "                                                                 \n",
      " conv2d_4 (Conv2D)           (None, 72, 72, 64)        18496     \n",
      "                                                                 \n",
      " max_pooling2d_4 (MaxPooling  (None, 36, 36, 64)       0         \n",
      " 2D)                                                             \n",
      "                                                                 \n",
      " conv2d_5 (Conv2D)           (None, 34, 34, 128)       73856     \n",
      "                                                                 \n",
      " max_pooling2d_5 (MaxPooling  (None, 17, 17, 128)      0         \n",
      " 2D)                                                             \n",
      "                                                                 \n",
      " flatten_1 (Flatten)         (None, 36992)             0         \n",
      "                                                                 \n",
      " dense_2 (Dense)             (None, 128)               4735104   \n",
      "                                                                 \n",
      " dropout_1 (Dropout)         (None, 128)               0         \n",
      "                                                                 \n",
      " dense_3 (Dense)             (None, 1)                 129       \n",
      "                                                                 \n",
      "=================================================================\n",
      "Total params: 4,827,905\n",
      "Trainable params: 4,827,905\n",
      "Non-trainable params: 0\n",
      "_________________________________________________________________\n"
     ]
    }
   ],
   "source": [
    "# Display the model summary\n",
    "model.summary()"
   ]
  },
  {
   "cell_type": "markdown",
   "id": "d054ae49-1c10-455e-af5b-1502d63c9e6f",
   "metadata": {},
   "source": [
    "### Model Training\n",
    "\n",
    "Number of batches = len(X_train)//batch_size"
   ]
  },
  {
   "cell_type": "code",
   "execution_count": 17,
   "id": "1b73f299-37a5-4937-a75f-6ca4a491619c",
   "metadata": {},
   "outputs": [
    {
     "name": "stdout",
     "output_type": "stream",
     "text": [
      "Epoch 1/10\n",
      "301/301 [==============================] - 242s 802ms/step - loss: 0.5974 - accuracy: 0.6833 - val_loss: 0.5293 - val_accuracy: 0.7341\n",
      "Epoch 2/10\n",
      "301/301 [==============================] - 244s 812ms/step - loss: 0.4740 - accuracy: 0.7808 - val_loss: 0.4149 - val_accuracy: 0.8030\n",
      "Epoch 3/10\n",
      "301/301 [==============================] - 238s 792ms/step - loss: 0.3794 - accuracy: 0.8326 - val_loss: 0.3990 - val_accuracy: 0.8382\n",
      "Epoch 4/10\n",
      "301/301 [==============================] - 238s 789ms/step - loss: 0.2952 - accuracy: 0.8748 - val_loss: 0.3076 - val_accuracy: 0.8728\n",
      "Epoch 5/10\n",
      "301/301 [==============================] - 237s 788ms/step - loss: 0.2200 - accuracy: 0.9131 - val_loss: 0.2719 - val_accuracy: 0.8926\n",
      "Epoch 6/10\n",
      "301/301 [==============================] - 238s 792ms/step - loss: 0.1638 - accuracy: 0.9349 - val_loss: 0.3137 - val_accuracy: 0.8921\n",
      "Epoch 7/10\n",
      "301/301 [==============================] - 238s 790ms/step - loss: 0.1303 - accuracy: 0.9485 - val_loss: 0.2770 - val_accuracy: 0.8887\n",
      "Epoch 8/10\n",
      "301/301 [==============================] - 237s 787ms/step - loss: 0.1039 - accuracy: 0.9615 - val_loss: 0.2813 - val_accuracy: 0.9051\n",
      "Epoch 9/10\n",
      "301/301 [==============================] - 240s 796ms/step - loss: 0.0821 - accuracy: 0.9647 - val_loss: 0.3540 - val_accuracy: 0.9013\n",
      "Epoch 10/10\n",
      "301/301 [==============================] - 240s 796ms/step - loss: 0.0641 - accuracy: 0.9755 - val_loss: 0.3081 - val_accuracy: 0.9066\n"
     ]
    }
   ],
   "source": [
    "# Train the model\n",
    "history = model.fit(X_train, y_train, \n",
    "                    validation_data=(X_val, y_val), \n",
    "                    epochs=10, batch_size=32)"
   ]
  },
  {
   "cell_type": "markdown",
   "id": "77c8a11a-982e-43d1-bdce-caec68de8b5d",
   "metadata": {},
   "source": [
    "#### Model performance Visualization"
   ]
  },
  {
   "cell_type": "code",
   "execution_count": 20,
   "id": "987cbad6-9aa8-45a0-b6e0-7f59708e62c2",
   "metadata": {},
   "outputs": [
    {
     "data": {
      "image/png": "[encoded data removed]",
      "text/plain": [
       "<Figure size 640x480 with 1 Axes>"
      ]
     },
     "metadata": {},
     "output_type": "display_data"
    }
   ],
   "source": [
    "import matplotlib.pyplot as plt\n",
    "\n",
    "# Plot training & validation accuracy values\n",
    "plt.plot(history.history['accuracy'], label='Training Accuracy')\n",
    "plt.plot(history.history['val_accuracy'], label='Validation Accuracy')\n",
    "plt.title('Model Accuracy')\n",
    "plt.xlabel('Epoch')\n",
    "plt.ylabel('Accuracy')\n",
    "plt.xticks(fontsize=12)\n",
    "plt.yticks(fontsize=12)\n",
    "plt.grid(True)\n",
    "plt.legend(fontsize=12)\n",
    "plt.show()"
   ]
  },
  {
   "cell_type": "markdown",
   "id": "63a26ccd-407e-4423-a344-96ab5112d9a1",
   "metadata": {},
   "source": [
    "As can be seen the model still tries to learn the inherent patterns even after `10 epochs` while the validation sets are stagnated at 90%."
   ]
  },
  {
   "cell_type": "markdown",
   "id": "afaaaa07-f60d-493d-925c-3d2c9c5e713a",
   "metadata": {},
   "source": [
    "We shall try a different architecture to check the performance and see if it performs better."
   ]
  },
  {
   "cell_type": "markdown",
   "id": "b170c731-bc82-421e-8319-55b26f6ed6a3",
   "metadata": {},
   "source": [
    "#### Model 2"
   ]
  },
  {
   "cell_type": "code",
   "execution_count": 25,
   "id": "3493fbea-62a4-4d72-b74c-390dda602481",
   "metadata": {},
   "outputs": [],
   "source": [
    "model2 = Sequential([\n",
    "    Conv2D(32, (3, 3), activation='relu', input_shape=(150, 150, 1)),\n",
    "    MaxPooling2D((2, 2)),\n",
    "    Conv2D(64, (3, 3), activation='relu'),\n",
    "    MaxPooling2D((2, 2)),\n",
    "    Conv2D(128, (3, 3), activation='relu'),\n",
    "    MaxPooling2D((2, 2)),\n",
    "    Flatten(),\n",
    "    Dense(512, activation='relu'),\n",
    "    Dropout(0.5),\n",
    "    Dense(256, activation='relu'),  # Additional hidden layer\n",
    "    Dropout(0.5),                    # Additional dropout layer\n",
    "    Dense(128, activation='relu'),  # Additional hidden layer\n",
    "    Dropout(0.5),                    # Additional dropout layer\n",
    "    Dense(1, activation='sigmoid')\n",
    "])"
   ]
  },
  {
   "cell_type": "code",
   "execution_count": 26,
   "id": "b03bd51c-eeee-4b3f-afb9-bb1b75327aed",
   "metadata": {},
   "outputs": [
    {
     "name": "stdout",
     "output_type": "stream",
     "text": [
      "Model: \"sequential_3\"\n",
      "_________________________________________________________________\n",
      " Layer (type)                Output Shape              Param #   \n",
      "=================================================================\n",
      " conv2d_9 (Conv2D)           (None, 148, 148, 32)      320       \n",
      "                                                                 \n",
      " max_pooling2d_9 (MaxPooling  (None, 74, 74, 32)       0         \n",
      " 2D)                                                             \n",
      "                                                                 \n",
      " conv2d_10 (Conv2D)          (None, 72, 72, 64)        18496     \n",
      "                                                                 \n",
      " max_pooling2d_10 (MaxPoolin  (None, 36, 36, 64)       0         \n",
      " g2D)                                                            \n",
      "                                                                 \n",
      " conv2d_11 (Conv2D)          (None, 34, 34, 128)       73856     \n",
      "                                                                 \n",
      " max_pooling2d_11 (MaxPoolin  (None, 17, 17, 128)      0         \n",
      " g2D)                                                            \n",
      "                                                                 \n",
      " flatten_3 (Flatten)         (None, 36992)             0         \n",
      "                                                                 \n",
      " dense_8 (Dense)             (None, 512)               18940416  \n",
      "                                                                 \n",
      " dropout_5 (Dropout)         (None, 512)               0         \n",
      "                                                                 \n",
      " dense_9 (Dense)             (None, 256)               131328    \n",
      "                                                                 \n",
      " dropout_6 (Dropout)         (None, 256)               0         \n",
      "                                                                 \n",
      " dense_10 (Dense)            (None, 128)               32896     \n",
      "                                                                 \n",
      " dropout_7 (Dropout)         (None, 128)               0         \n",
      "                                                                 \n",
      " dense_11 (Dense)            (None, 1)                 129       \n",
      "                                                                 \n",
      "=================================================================\n",
      "Total params: 19,197,441\n",
      "Trainable params: 19,197,441\n",
      "Non-trainable params: 0\n",
      "_________________________________________________________________\n"
     ]
    }
   ],
   "source": [
    "# Compile the model\n",
    "model2.compile(optimizer='adam',\n",
    "              loss='binary_crossentropy',\n",
    "              metrics=['accuracy'])\n",
    "\n",
    "# Print model summary\n",
    "model2.summary()"
   ]
  },
  {
   "cell_type": "code",
   "execution_count": 27,
   "id": "cc8b34e6-735f-451a-a922-2ea3d1a6202e",
   "metadata": {},
   "outputs": [
    {
     "name": "stdout",
     "output_type": "stream",
     "text": [
      "Epoch 1/10\n",
      "301/301 [==============================] - 345s 1s/step - loss: 0.6216 - accuracy: 0.6556 - val_loss: 0.5187 - val_accuracy: 0.7524\n",
      "Epoch 2/10\n",
      "301/301 [==============================] - 366s 1s/step - loss: 0.4798 - accuracy: 0.7812 - val_loss: 0.4095 - val_accuracy: 0.8247\n",
      "Epoch 3/10\n",
      "301/301 [==============================] - 442s 1s/step - loss: 0.3482 - accuracy: 0.8530 - val_loss: 0.3817 - val_accuracy: 0.8280\n",
      "Epoch 4/10\n",
      "301/301 [==============================] - 388s 1s/step - loss: 0.2247 - accuracy: 0.9112 - val_loss: 0.2682 - val_accuracy: 0.8916\n",
      "Epoch 5/10\n",
      "301/301 [==============================] - 431s 1s/step - loss: 0.1304 - accuracy: 0.9518 - val_loss: 0.3145 - val_accuracy: 0.9022\n",
      "Epoch 6/10\n",
      "301/301 [==============================] - 364s 1s/step - loss: 0.0849 - accuracy: 0.9704 - val_loss: 0.3117 - val_accuracy: 0.9128\n",
      "Epoch 7/10\n",
      "301/301 [==============================] - 313s 1s/step - loss: 0.0604 - accuracy: 0.9779 - val_loss: 0.4942 - val_accuracy: 0.8767\n",
      "Epoch 8/10\n",
      "301/301 [==============================] - 316s 1s/step - loss: 0.0444 - accuracy: 0.9850 - val_loss: 0.4347 - val_accuracy: 0.8974\n",
      "Epoch 9/10\n",
      "301/301 [==============================] - 289s 960ms/step - loss: 0.0390 - accuracy: 0.9856 - val_loss: 0.4079 - val_accuracy: 0.8988\n",
      "Epoch 10/10\n",
      "301/301 [==============================] - 282s 938ms/step - loss: 0.0298 - accuracy: 0.9909 - val_loss: 0.4105 - val_accuracy: 0.9128\n"
     ]
    }
   ],
   "source": [
    "history2 = model2.fit(X_train, y_train, \n",
    "                    validation_data=(X_val, y_val), \n",
    "                    epochs=10, batch_size=32)"
   ]
  },
  {
   "cell_type": "markdown",
   "id": "86b86225-f21e-4f6f-acb4-42371ad0e68b",
   "metadata": {},
   "source": [
    "As we see even with more layers added in, the validation accuracy doesnot improve while the training accuracy improves by about `1.5%`. So we can check the general performance on test set and make a decision on the model to optimize. "
   ]
  },
  {
   "cell_type": "code",
   "execution_count": 28,
   "id": "20466315-60dc-46cf-9f3f-041fe76582cc",
   "metadata": {},
   "outputs": [
    {
     "data": {
      "image/png": "[encoded data removed]",
      "text/plain": [
       "<Figure size 640x480 with 1 Axes>"
      ]
     },
     "metadata": {},
     "output_type": "display_data"
    }
   ],
   "source": [
    "# Plot training & validation accuracy values\n",
    "plt.plot(history2.history['accuracy'], label='Training Accuracy')\n",
    "plt.plot(history2.history['val_accuracy'], label='Validation Accuracy')\n",
    "plt.title('Model2 Accuracy')\n",
    "plt.xlabel('Epoch')\n",
    "plt.ylabel('Accuracy')\n",
    "plt.xticks(fontsize=12)\n",
    "plt.yticks(fontsize=12)\n",
    "plt.grid(True)\n",
    "plt.legend(fontsize=12)\n",
    "plt.show()"
   ]
  },
  {
   "cell_type": "markdown",
   "id": "4bd0dbb1-1315-4014-8b59-bb91e2898926",
   "metadata": {},
   "source": [
    "### Evaluation on Test set to select base model"
   ]
  },
  {
   "cell_type": "code",
   "execution_count": 29,
   "id": "95978cb3-c2e9-4c5a-b9d5-a98dc5d3018c",
   "metadata": {},
   "outputs": [
    {
     "name": "stderr",
     "output_type": "stream",
     "text": [
      "Progress...: 100%|████████████████████████████████████████████████████████████████████████████████████████████████████████████████████████| 2/2 [00:28<00:00, 14.05s/it]\n"
     ]
    }
   ],
   "source": [
    "data_dir = \"..\\\\data\\\\test_data\"\n",
    "X_test, y_test = get_preprocessed_data(directory=data_dir)"
   ]
  },
  {
   "cell_type": "code",
   "execution_count": 32,
   "id": "c9a661da-c5c6-4e49-b758-5049142ac193",
   "metadata": {},
   "outputs": [
    {
     "name": "stdout",
     "output_type": "stream",
     "text": [
      "73/73 [==============================] - 16s 211ms/step - loss: 0.3290 - accuracy: 0.9152\n",
      "Model 1 - Test Loss: 0.3290092945098877\n",
      "Model 1 - Test Accuracy: 0.9152397513389587\n",
      "73/73 [==============================] - 18s 244ms/step - loss: 0.4235 - accuracy: 0.9174\n",
      "Model 2 - Test Loss: 0.42353132367134094\n",
      "Model 2 - Test Accuracy: 0.917380154132843\n"
     ]
    }
   ],
   "source": [
    "# Evaluate Model 1 on the test set\n",
    "test_loss_1, test_accuracy_1 = model.evaluate(X_test, y_test)\n",
    "print(\"Model 1 - Test Loss:\", test_loss_1)\n",
    "print(\"Model 1 - Test Accuracy:\", test_accuracy_1)\n",
    "\n",
    "# Evaluate Model 2 on the test set\n",
    "test_loss_2, test_accuracy_2 = model2.evaluate(X_test, y_test)\n",
    "print(\"Model 2 - Test Loss:\", test_loss_2)\n",
    "print(\"Model 2 - Test Accuracy:\", test_accuracy_2)\n"
   ]
  },
  {
   "cell_type": "markdown",
   "id": "a99cc074-2bb3-4859-ad95-cabfa79c18ff",
   "metadata": {},
   "source": [
    "As we can see both models have similar performance and Model 2 is more complex and takes more time to build.\n",
    "Hence we shall select Model 1 as the base model. We shall try to optimize Model 1 for better generalization."
   ]
  },
  {
   "cell_type": "markdown",
   "id": "a888fd50-ceac-40f2-801c-2226bdf0f2ba",
   "metadata": {},
   "source": [
    "### Hyperparameter Tuning"
   ]
  },
  {
   "cell_type": "code",
   "execution_count": null,
   "id": "992aad83-e981-4835-a9f0-3f40afb9781d",
   "metadata": {},
   "outputs": [],
   "source": []
  }
 ],
 "metadata": {
  "kernelspec": {
   "display_name": "Python 3 (ipykernel)",
   "language": "python",
   "name": "python3"
  },
  "language_info": {
   "codemirror_mode": {
    "name": "ipython",
    "version": 3
   },
   "file_extension": ".py",
   "mimetype": "text/x-python",
   "name": "python",
   "nbconvert_exporter": "python",
   "pygments_lexer": "ipython3",
   "version": "3.9.19"
  }
 },
 "nbformat": 4,
 "nbformat_minor": 5
}
